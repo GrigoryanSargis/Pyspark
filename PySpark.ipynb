{
  "cells": [
    {
      "cell_type": "code",
      "source": [
        "!pip install kaggle\n",
        "!kaggle datasets download -d gyanprakashkushwaha/laptop-price-prediction-cleaned-dataset\n",
        "!unzip laptop-price-prediction-cleaned-dataset.zip"
      ],
      "metadata": {
        "id": "lRZBX8_oxMAS",
        "colab": {
          "base_uri": "https://localhost:8080/"
        },
        "outputId": "84932459-ab61-4499-8997-7bea735de09a"
      },
      "execution_count": null,
      "outputs": [
        {
          "output_type": "stream",
          "name": "stdout",
          "text": [
            "Requirement already satisfied: kaggle in /usr/local/lib/python3.10/dist-packages (1.6.12)\n",
            "Requirement already satisfied: six>=1.10 in /usr/local/lib/python3.10/dist-packages (from kaggle) (1.16.0)\n",
            "Requirement already satisfied: certifi>=2023.7.22 in /usr/local/lib/python3.10/dist-packages (from kaggle) (2024.2.2)\n",
            "Requirement already satisfied: python-dateutil in /usr/local/lib/python3.10/dist-packages (from kaggle) (2.8.2)\n",
            "Requirement already satisfied: requests in /usr/local/lib/python3.10/dist-packages (from kaggle) (2.31.0)\n",
            "Requirement already satisfied: tqdm in /usr/local/lib/python3.10/dist-packages (from kaggle) (4.66.2)\n",
            "Requirement already satisfied: python-slugify in /usr/local/lib/python3.10/dist-packages (from kaggle) (8.0.4)\n",
            "Requirement already satisfied: urllib3 in /usr/local/lib/python3.10/dist-packages (from kaggle) (2.0.7)\n",
            "Requirement already satisfied: bleach in /usr/local/lib/python3.10/dist-packages (from kaggle) (6.1.0)\n",
            "Requirement already satisfied: webencodings in /usr/local/lib/python3.10/dist-packages (from bleach->kaggle) (0.5.1)\n",
            "Requirement already satisfied: text-unidecode>=1.3 in /usr/local/lib/python3.10/dist-packages (from python-slugify->kaggle) (1.3)\n",
            "Requirement already satisfied: charset-normalizer<4,>=2 in /usr/local/lib/python3.10/dist-packages (from requests->kaggle) (3.3.2)\n",
            "Requirement already satisfied: idna<4,>=2.5 in /usr/local/lib/python3.10/dist-packages (from requests->kaggle) (3.7)\n",
            "Dataset URL: https://www.kaggle.com/datasets/gyanprakashkushwaha/laptop-price-prediction-cleaned-dataset\n",
            "License(s): CC0-1.0\n",
            "Downloading laptop-price-prediction-cleaned-dataset.zip to /content\n",
            "  0% 0.00/21.5k [00:00<?, ?B/s]\n",
            "100% 21.5k/21.5k [00:00<00:00, 29.2MB/s]\n",
            "Archive:  laptop-price-prediction-cleaned-dataset.zip\n",
            "  inflating: laptop_data_cleaned.csv  \n"
          ]
        }
      ]
    },
    {
      "cell_type": "code",
      "source": [
        "!pip install pyspark"
      ],
      "metadata": {
        "id": "7qCyC08xhnnU",
        "outputId": "cf59efaf-ecee-4b72-88c4-20591bc1059b",
        "colab": {
          "base_uri": "https://localhost:8080/"
        }
      },
      "execution_count": null,
      "outputs": [
        {
          "output_type": "stream",
          "name": "stdout",
          "text": [
            "Collecting pyspark\n",
            "  Downloading pyspark-3.5.1.tar.gz (317.0 MB)\n",
            "\u001b[2K     \u001b[90m━━━━━━━━━━━━━━━━━━━━━━━━━━━━━━━━━━━━━━━━\u001b[0m \u001b[32m317.0/317.0 MB\u001b[0m \u001b[31m2.8 MB/s\u001b[0m eta \u001b[36m0:00:00\u001b[0m\n",
            "\u001b[?25h  Preparing metadata (setup.py) ... \u001b[?25l\u001b[?25hdone\n",
            "Requirement already satisfied: py4j==0.10.9.7 in /usr/local/lib/python3.10/dist-packages (from pyspark) (0.10.9.7)\n",
            "Building wheels for collected packages: pyspark\n",
            "  Building wheel for pyspark (setup.py) ... \u001b[?25l\u001b[?25hdone\n",
            "  Created wheel for pyspark: filename=pyspark-3.5.1-py2.py3-none-any.whl size=317488491 sha256=d9fd0d681e14104f700953f49196b9f1ad5e8a93fa28b15ecbbffbd64581fcf8\n",
            "  Stored in directory: /root/.cache/pip/wheels/80/1d/60/2c256ed38dddce2fdd93be545214a63e02fbd8d74fb0b7f3a6\n",
            "Successfully built pyspark\n",
            "Installing collected packages: pyspark\n",
            "Successfully installed pyspark-3.5.1\n"
          ]
        }
      ]
    },
    {
      "cell_type": "code",
      "source": [
        "from pyspark.sql import SparkSession\n",
        "from pyspark.ml.feature import VectorAssembler\n",
        "from pyspark.ml import Pipeline\n",
        "from pyspark.ml.regression import RandomForestRegressor\n",
        "from pyspark.sql.functions import col, dayofmonth, month, year,  to_date, to_timestamp, weekofyear, dayofweek\n",
        "from pyspark.ml.feature import StringIndexer\n",
        "from pyspark.ml.evaluation import RegressionEvaluator\n",
        "from pyspark.ml.feature import OneHotEncoder\n",
        "from pyspark.ml.regression import LinearRegression\n",
        "from pyspark.ml.tuning import CrossValidator, ParamGridBuilder\n",
        "import seaborn as sns\n",
        "import matplotlib.pyplot as plt\n",
        "import pandas as pd\n",
        "\n",
        "\n",
        "my_spark = SparkSession.builder.appName(\"Laptop_price\").getOrCreate()\n",
        "\n",
        "\n",
        "sales_data = my_spark.read.csv(\n",
        "    \"laptop_data_cleaned.csv\", header=True, inferSchema=True, sep=\",\")\n",
        "\n"
      ],
      "metadata": {
        "id": "yFVZAikKhOUZ"
      },
      "execution_count": null,
      "outputs": []
    },
    {
      "cell_type": "code",
      "source": [
        "#uxxaki stugumner"
      ],
      "metadata": {
        "id": "fU56_t1_juhe"
      },
      "execution_count": null,
      "outputs": []
    },
    {
      "cell_type": "code",
      "source": [
        "sales_data"
      ],
      "metadata": {
        "id": "2b3eQxjnhmYQ",
        "outputId": "60126fad-f690-4208-f32c-243676621601",
        "colab": {
          "base_uri": "https://localhost:8080/"
        }
      },
      "execution_count": null,
      "outputs": [
        {
          "output_type": "execute_result",
          "data": {
            "text/plain": [
              "DataFrame[Company: string, TypeName: string, Ram: int, Weight: double, Price: double, TouchScreen: int, Ips: int, Ppi: double, Cpu_brand: string, HDD: int, SSD: int, Gpu_brand: string, Os: string]"
            ]
          },
          "metadata": {},
          "execution_count": 5
        }
      ]
    },
    {
      "cell_type": "code",
      "source": [
        "sales_data.describe().show()"
      ],
      "metadata": {
        "colab": {
          "base_uri": "https://localhost:8080/"
        },
        "id": "Hvx2uUq9l5he",
        "outputId": "97f4c62e-20da-4457-ce29-c81c8972666c"
      },
      "execution_count": null,
      "outputs": [
        {
          "output_type": "stream",
          "name": "stdout",
          "text": [
            "+-------+-------+------------------+-----------------+------------------+------------------+-------------------+-------------------+------------------+--------------------+------------------+------------------+---------+-------+\n",
            "|summary|Company|          TypeName|              Ram|            Weight|             Price|        TouchScreen|                Ips|               Ppi|           Cpu_brand|               HDD|               SSD|Gpu_brand|     Os|\n",
            "+-------+-------+------------------+-----------------+------------------+------------------+-------------------+-------------------+------------------+--------------------+------------------+------------------+---------+-------+\n",
            "|  count|   1273|              1273|             1273|              1273|              1273|               1273|               1273|              1273|                1273|              1273|              1273|     1273|   1273|\n",
            "|   mean|   NULL|              NULL|8.447761194029852| 2.041099764336213|10.828218230869599|0.14689709347996857|0.27965435978004716|146.95081224719425|                NULL|413.71563236449333|186.25294579732915|     NULL|   NULL|\n",
            "| stddev|   NULL|              NULL|5.098770979625907|0.6692410621861017|0.6195650221746957|0.35414242630983206|0.44900575691976813|42.926775355781615|                NULL| 518.0544860514339|186.53157149150977|     NULL|   NULL|\n",
            "|    min|   Acer|2 in 1 Convertible|                2|              0.69| 9.134616325446663|                  0|                  0| 90.58340172449303|       AMD Processor|                 0|                 0|      AMD|    Mac|\n",
            "|    max| Xiaomi|       Workstation|               64|               4.7| 12.69144112852859|                  1|                  1| 352.4651472131677|Other Intel Proce...|              2000|              1024|   Nvidia|Windows|\n",
            "+-------+-------+------------------+-----------------+------------------+------------------+-------------------+-------------------+------------------+--------------------+------------------+------------------+---------+-------+\n",
            "\n"
          ]
        }
      ]
    },
    {
      "cell_type": "code",
      "source": [
        "sales_data.printSchema()"
      ],
      "metadata": {
        "id": "22jMf2rUiEDU",
        "outputId": "1876ca4d-a4a4-4b3e-e93a-a06db69b5c8d",
        "colab": {
          "base_uri": "https://localhost:8080/"
        }
      },
      "execution_count": null,
      "outputs": [
        {
          "output_type": "stream",
          "name": "stdout",
          "text": [
            "root\n",
            " |-- Company: string (nullable = true)\n",
            " |-- TypeName: string (nullable = true)\n",
            " |-- Ram: integer (nullable = true)\n",
            " |-- Weight: double (nullable = true)\n",
            " |-- Price: double (nullable = true)\n",
            " |-- TouchScreen: integer (nullable = true)\n",
            " |-- Ips: integer (nullable = true)\n",
            " |-- Ppi: double (nullable = true)\n",
            " |-- Cpu_brand: string (nullable = true)\n",
            " |-- HDD: integer (nullable = true)\n",
            " |-- SSD: integer (nullable = true)\n",
            " |-- Gpu_brand: string (nullable = true)\n",
            " |-- Os: string (nullable = true)\n",
            "\n"
          ]
        }
      ]
    },
    {
      "cell_type": "code",
      "source": [
        "sales_data.show()"
      ],
      "metadata": {
        "id": "ROfWdI5tlQOG",
        "outputId": "a06bea75-ddd3-452d-8f63-4e80229b0c9f",
        "colab": {
          "base_uri": "https://localhost:8080/"
        }
      },
      "execution_count": null,
      "outputs": [
        {
          "output_type": "stream",
          "name": "stdout",
          "text": [
            "+-------+---------+---+------+------------------+-----------+---+------------------+--------------------+----+---+---------+-------+\n",
            "|Company| TypeName|Ram|Weight|             Price|TouchScreen|Ips|               Ppi|           Cpu_brand| HDD|SSD|Gpu_brand|     Os|\n",
            "+-------+---------+---+------+------------------+-----------+---+------------------+--------------------+----+---+---------+-------+\n",
            "|  Apple|Ultrabook|  8|  1.37|11.175754549129524|          0|  1|226.98300468106115|       Intel Core i5|   0|128|    Intel|    Mac|\n",
            "|  Apple|Ultrabook|  8|  1.34| 10.77677731765335|          0|  0|127.67794013309688|       Intel Core i5|   0|  0|    Intel|    Mac|\n",
            "|     HP| Notebook|  8|  1.86|10.329931067029484|          0|  0|141.21199808219862|       Intel Core i5|   0|256|    Intel| Others|\n",
            "|  Apple|Ultrabook| 16|  1.83|11.814475944954545|          0|  1|220.53462386625827|       Intel Core i7|   0|512|      AMD|    Mac|\n",
            "|  Apple|Ultrabook|  8|  1.37|11.473100972779063|          0|  1|226.98300468106115|       Intel Core i5|   0|256|    Intel|    Mac|\n",
            "|   Acer| Notebook|  4|   2.1| 9.967025573340116|          0|  0|100.45466986113651|       AMD Processor| 500|  0|      AMD|Windows|\n",
            "|  Apple|Ultrabook| 16|  2.04| 11.64410811545818|          0|  1|220.53462386625827|       Intel Core i7|   0|  0|    Intel|    Mac|\n",
            "|  Apple|Ultrabook|  8|  1.34| 11.03061499223515|          0|  0|127.67794013309688|       Intel Core i5|   0|  0|    Intel|    Mac|\n",
            "|   Asus|Ultrabook| 16|   1.3|11.285442512056921|          0|  0| 157.3505121487356|       Intel Core i7|   0|512|   Nvidia|Windows|\n",
            "|   Acer|Ultrabook|  8|   1.6|10.621951541079863|          0|  1| 157.3505121487356|       Intel Core i5|   0|256|    Intel|Windows|\n",
            "|     HP| Notebook|  4|  1.86| 9.951658096208995|          0|  0|100.45466986113651|       Intel Core i5| 500|  0|    Intel| Others|\n",
            "|     HP| Notebook|  4|  1.86| 9.819076457336159|          0|  0|141.21199808219862|       Intel Core i3| 500|  0|    Intel| Others|\n",
            "|  Apple|Ultrabook| 16|  1.83|11.775302049361828|          0|  1|220.53462386625827|       Intel Core i7|   0|256|      AMD|    Mac|\n",
            "|   Dell| Notebook|  4|   2.2|10.187966701099125|          0|  0|141.21199808219862|       Intel Core i3|   0|256|      AMD|Windows|\n",
            "|  Apple|Ultrabook|  8|  0.92|11.116330976323743|          0|  1|226.41554716935852|Other Intel Proce...|   0|256|    Intel|    Mac|\n",
            "|  Apple|Ultrabook|  8|  1.37|11.301072237406668|          0|  1|226.98300468106115|       Intel Core i5|   0|256|    Intel|    Mac|\n",
            "|   Dell| Notebook|  8|   2.2|10.588945244611693|          0|  0|141.21199808219862|       Intel Core i7|   0|256|      AMD|Windows|\n",
            "|  Apple|Ultrabook| 16|  1.83|11.933438384721946|          0|  1|220.53462386625827|       Intel Core i7|   0|512|      AMD|    Mac|\n",
            "| Lenovo| Notebook|  8|   2.2|10.188167121983652|          0|  0|141.21199808219862|       Intel Core i3|1000|  0|   Nvidia| Others|\n",
            "|   Dell|Ultrabook|  8|  1.22|10.862092668762644|          1|  1| 165.6321180513006|       Intel Core i5|   0|128|    Intel|Windows|\n",
            "+-------+---------+---+------+------------------+-----------+---+------------------+--------------------+----+---+---------+-------+\n",
            "only showing top 20 rows\n",
            "\n"
          ]
        }
      ]
    },
    {
      "cell_type": "code",
      "source": [],
      "metadata": {
        "id": "UXc-djCNmtAt"
      },
      "execution_count": null,
      "outputs": []
    },
    {
      "cell_type": "markdown",
      "source": [
        "#Ինդեքսավորում եմ ընտրված սյուները"
      ],
      "metadata": {
        "id": "B3_4PNeeRLQH"
      }
    },
    {
      "cell_type": "code",
      "source": [
        "Company_index = StringIndexer(inputCol='Company', outputCol='Company_index')\n",
        "Gpu_brand_index = StringIndexer(inputCol='Gpu_brand', outputCol='Gpu_brand_index')"
      ],
      "metadata": {
        "id": "0sYKyKkXmWim"
      },
      "execution_count": null,
      "outputs": []
    },
    {
      "cell_type": "code",
      "source": [
        "sales_data_index = Company_index.fit(sales_data).transform(sales_data)\n",
        "sales_data_index = Gpu_brand_index.fit(sales_data_index).transform(sales_data_index)"
      ],
      "metadata": {
        "id": "Cpdvq31qmWge"
      },
      "execution_count": null,
      "outputs": []
    },
    {
      "cell_type": "code",
      "source": [],
      "metadata": {
        "id": "Njjw0VInmWQW"
      },
      "execution_count": null,
      "outputs": []
    },
    {
      "cell_type": "code",
      "source": [
        "sales_data_index.show()"
      ],
      "metadata": {
        "colab": {
          "base_uri": "https://localhost:8080/"
        },
        "id": "_v2vSYk0GNYm",
        "outputId": "7c9e43cf-4c2a-4b46-a78a-5d315bb747a2"
      },
      "execution_count": null,
      "outputs": [
        {
          "output_type": "stream",
          "name": "stdout",
          "text": [
            "+-------+---+-----------+---------+------------------+-------------+---------------+\n",
            "|Company|Ram|TouchScreen|Gpu_brand|             Price|Company_index|Gpu_brand_index|\n",
            "+-------+---+-----------+---------+------------------+-------------+---------------+\n",
            "|  Apple|  8|          0|    Intel|11.175754549129524|          7.0|            0.0|\n",
            "|  Apple|  8|          0|    Intel| 10.77677731765335|          7.0|            0.0|\n",
            "|     HP|  8|          0|    Intel|10.329931067029484|          2.0|            0.0|\n",
            "|  Apple| 16|          0|      AMD|11.814475944954545|          7.0|            2.0|\n",
            "|  Apple|  8|          0|    Intel|11.473100972779063|          7.0|            0.0|\n",
            "|   Acer|  4|          0|      AMD| 9.967025573340116|          4.0|            2.0|\n",
            "|  Apple| 16|          0|    Intel| 11.64410811545818|          7.0|            0.0|\n",
            "|  Apple|  8|          0|    Intel| 11.03061499223515|          7.0|            0.0|\n",
            "|   Asus| 16|          0|   Nvidia|11.285442512056921|          3.0|            1.0|\n",
            "|   Acer|  8|          0|    Intel|10.621951541079863|          4.0|            0.0|\n",
            "|     HP|  4|          0|    Intel| 9.951658096208995|          2.0|            0.0|\n",
            "|     HP|  4|          0|    Intel| 9.819076457336159|          2.0|            0.0|\n",
            "|  Apple| 16|          0|      AMD|11.775302049361828|          7.0|            2.0|\n",
            "|   Dell|  4|          0|      AMD|10.187966701099125|          0.0|            2.0|\n",
            "|  Apple|  8|          0|    Intel|11.116330976323743|          7.0|            0.0|\n",
            "|  Apple|  8|          0|    Intel|11.301072237406668|          7.0|            0.0|\n",
            "|   Dell|  8|          0|      AMD|10.588945244611693|          0.0|            2.0|\n",
            "|  Apple| 16|          0|      AMD|11.933438384721946|          7.0|            2.0|\n",
            "| Lenovo|  8|          0|   Nvidia|10.188167121983652|          1.0|            1.0|\n",
            "|   Dell|  8|          1|    Intel|10.862092668762644|          0.0|            0.0|\n",
            "+-------+---+-----------+---------+------------------+-------------+---------------+\n",
            "only showing top 20 rows\n",
            "\n"
          ]
        }
      ]
    },
    {
      "cell_type": "markdown",
      "source": [
        "#Onehot encode-եմ անում"
      ],
      "metadata": {
        "id": "GrEI6UhfRa72"
      }
    },
    {
      "cell_type": "code",
      "source": [
        "onehot = OneHotEncoder(inputCols=['Company_index','Gpu_brand_index'], outputCols=['Company_dummy','Gpu_brand_dummy'])\n",
        "\n",
        "onehot = onehot.fit(sales_data_index)\n",
        "sales_data_onehot = onehot.transform(sales_data_index)"
      ],
      "metadata": {
        "id": "lF3dP_sjpeAd"
      },
      "execution_count": null,
      "outputs": []
    },
    {
      "cell_type": "code",
      "source": [
        "sales_data_onehot.show()"
      ],
      "metadata": {
        "colab": {
          "base_uri": "https://localhost:8080/"
        },
        "id": "B4NB-sbkpd-N",
        "outputId": "892f56ea-2820-4ff6-bc50-5f7c3e5b7675"
      },
      "execution_count": null,
      "outputs": [
        {
          "output_type": "stream",
          "name": "stdout",
          "text": [
            "+-------+---+-----------+---------+------------------+-------------+---------------+--------------+---------------+\n",
            "|Company|Ram|TouchScreen|Gpu_brand|             Price|Company_index|Gpu_brand_index| Company_dummy|Gpu_brand_dummy|\n",
            "+-------+---+-----------+---------+------------------+-------------+---------------+--------------+---------------+\n",
            "|  Apple|  8|          0|    Intel|11.175754549129524|          7.0|            0.0|(18,[7],[1.0])|  (2,[0],[1.0])|\n",
            "|  Apple|  8|          0|    Intel| 10.77677731765335|          7.0|            0.0|(18,[7],[1.0])|  (2,[0],[1.0])|\n",
            "|     HP|  8|          0|    Intel|10.329931067029484|          2.0|            0.0|(18,[2],[1.0])|  (2,[0],[1.0])|\n",
            "|  Apple| 16|          0|      AMD|11.814475944954545|          7.0|            2.0|(18,[7],[1.0])|      (2,[],[])|\n",
            "|  Apple|  8|          0|    Intel|11.473100972779063|          7.0|            0.0|(18,[7],[1.0])|  (2,[0],[1.0])|\n",
            "|   Acer|  4|          0|      AMD| 9.967025573340116|          4.0|            2.0|(18,[4],[1.0])|      (2,[],[])|\n",
            "|  Apple| 16|          0|    Intel| 11.64410811545818|          7.0|            0.0|(18,[7],[1.0])|  (2,[0],[1.0])|\n",
            "|  Apple|  8|          0|    Intel| 11.03061499223515|          7.0|            0.0|(18,[7],[1.0])|  (2,[0],[1.0])|\n",
            "|   Asus| 16|          0|   Nvidia|11.285442512056921|          3.0|            1.0|(18,[3],[1.0])|  (2,[1],[1.0])|\n",
            "|   Acer|  8|          0|    Intel|10.621951541079863|          4.0|            0.0|(18,[4],[1.0])|  (2,[0],[1.0])|\n",
            "|     HP|  4|          0|    Intel| 9.951658096208995|          2.0|            0.0|(18,[2],[1.0])|  (2,[0],[1.0])|\n",
            "|     HP|  4|          0|    Intel| 9.819076457336159|          2.0|            0.0|(18,[2],[1.0])|  (2,[0],[1.0])|\n",
            "|  Apple| 16|          0|      AMD|11.775302049361828|          7.0|            2.0|(18,[7],[1.0])|      (2,[],[])|\n",
            "|   Dell|  4|          0|      AMD|10.187966701099125|          0.0|            2.0|(18,[0],[1.0])|      (2,[],[])|\n",
            "|  Apple|  8|          0|    Intel|11.116330976323743|          7.0|            0.0|(18,[7],[1.0])|  (2,[0],[1.0])|\n",
            "|  Apple|  8|          0|    Intel|11.301072237406668|          7.0|            0.0|(18,[7],[1.0])|  (2,[0],[1.0])|\n",
            "|   Dell|  8|          0|      AMD|10.588945244611693|          0.0|            2.0|(18,[0],[1.0])|      (2,[],[])|\n",
            "|  Apple| 16|          0|      AMD|11.933438384721946|          7.0|            2.0|(18,[7],[1.0])|      (2,[],[])|\n",
            "| Lenovo|  8|          0|   Nvidia|10.188167121983652|          1.0|            1.0|(18,[1],[1.0])|  (2,[1],[1.0])|\n",
            "|   Dell|  8|          1|    Intel|10.862092668762644|          0.0|            0.0|(18,[0],[1.0])|  (2,[0],[1.0])|\n",
            "+-------+---+-----------+---------+------------------+-------------+---------------+--------------+---------------+\n",
            "only showing top 20 rows\n",
            "\n"
          ]
        }
      ]
    },
    {
      "cell_type": "code",
      "source": [],
      "metadata": {
        "id": "_cRBysdXpd8F"
      },
      "execution_count": null,
      "outputs": []
    },
    {
      "cell_type": "code",
      "source": [],
      "metadata": {
        "id": "hBd2FWIHoWBO"
      },
      "execution_count": null,
      "outputs": []
    },
    {
      "cell_type": "markdown",
      "source": [
        "# feature սյունն եմ ստեղծում, որ արդեն train արվի"
      ],
      "metadata": {
        "id": "kU-jcXmKRhtt"
      }
    },
    {
      "cell_type": "code",
      "source": [
        "assembler = VectorAssembler(inputCols=[\n",
        "    'Ram',\n",
        "    'Weight',\n",
        "    'TouchScreen',\n",
        "    'Ips',\n",
        "    'Ppi',\n",
        "], outputCol='features')\n",
        "\n",
        "flights_assembled = assembler.transform(sales_data)\n",
        "\n",
        "flights_assembled.select('features', 'Price').show(5, truncate=False)"
      ],
      "metadata": {
        "colab": {
          "base_uri": "https://localhost:8080/"
        },
        "id": "ddzVr--tmkqF",
        "outputId": "ff55add1-e959-452a-a391-854b0d49dbb3"
      },
      "execution_count": null,
      "outputs": [
        {
          "output_type": "stream",
          "name": "stdout",
          "text": [
            "+--------------------------------------+------------------+\n",
            "|features                              |Price             |\n",
            "+--------------------------------------+------------------+\n",
            "|[8.0,1.37,0.0,1.0,226.98300468106115] |11.175754549129524|\n",
            "|[8.0,1.34,0.0,0.0,127.67794013309688] |10.77677731765335 |\n",
            "|[8.0,1.86,0.0,0.0,141.21199808219862] |10.329931067029484|\n",
            "|[16.0,1.83,0.0,1.0,220.53462386625827]|11.814475944954545|\n",
            "|[8.0,1.37,0.0,1.0,226.98300468106115] |11.473100972779063|\n",
            "+--------------------------------------+------------------+\n",
            "only showing top 5 rows\n",
            "\n"
          ]
        }
      ]
    },
    {
      "cell_type": "code",
      "source": [
        "#uxxaki stugumneri avart :)"
      ],
      "metadata": {
        "id": "GC_1kZsRmknt"
      },
      "execution_count": null,
      "outputs": []
    },
    {
      "cell_type": "code",
      "source": [],
      "metadata": {
        "id": "DgjEBvl-mkk1"
      },
      "execution_count": null,
      "outputs": []
    },
    {
      "cell_type": "code",
      "source": [],
      "metadata": {
        "id": "ULkX0cKcmkiu"
      },
      "execution_count": null,
      "outputs": []
    },
    {
      "cell_type": "markdown",
      "source": [
        "#Թեթև վիզուալիզացիա"
      ],
      "metadata": {
        "id": "nilQpx78R0VR"
      }
    },
    {
      "cell_type": "code",
      "source": [
        "sales_data = sales_data.select(col('Company'),col('Ram'), col('TouchScreen'),col('Gpu_brand'), col('Price'))"
      ],
      "metadata": {
        "id": "BmV5Q62ulU41"
      },
      "execution_count": null,
      "outputs": []
    },
    {
      "cell_type": "code",
      "source": [
        "sales_data_df = sales_data.toPandas()"
      ],
      "metadata": {
        "id": "8Q96WijYNpJd"
      },
      "execution_count": null,
      "outputs": []
    },
    {
      "cell_type": "code",
      "source": [
        "mean_prices = sales_data_df.groupby('Company')['Price'].mean().sort_values(ascending=False)\n",
        "mean_prices"
      ],
      "metadata": {
        "colab": {
          "base_uri": "https://localhost:8080/"
        },
        "id": "CEuBQd_YP2R8",
        "outputId": "8dc77f55-f7df-41a2-92dd-eed742503bfc"
      },
      "execution_count": null,
      "outputs": [
        {
          "output_type": "execute_result",
          "data": {
            "text/plain": [
              "Company\n",
              "Razer        11.940528\n",
              "LG           11.621737\n",
              "MSI          11.383340\n",
              "Google       11.374981\n",
              "Microsoft    11.305010\n",
              "Apple        11.274645\n",
              "Huawei       11.235397\n",
              "Samsung      11.173723\n",
              "Toshiba      11.044669\n",
              "Xiaomi       10.995970\n",
              "Dell         10.924479\n",
              "HP           10.805129\n",
              "Asus         10.797073\n",
              "Lenovo       10.779085\n",
              "Fujitsu      10.563592\n",
              "Acer         10.301821\n",
              "Chuwi         9.683992\n",
              "Mediacom      9.645522\n",
              "Vero          9.351166\n",
              "Name: Price, dtype: float64"
            ]
          },
          "metadata": {},
          "execution_count": 22
        }
      ]
    },
    {
      "cell_type": "code",
      "source": [
        "company_counts = sales_data_df['Company'].value_counts()[:5]\n",
        "company_counts"
      ],
      "metadata": {
        "colab": {
          "base_uri": "https://localhost:8080/"
        },
        "id": "QgPueWV9OYAU",
        "outputId": "32d52263-f5e9-4883-aed9-0accbf7d5676"
      },
      "execution_count": null,
      "outputs": [
        {
          "output_type": "execute_result",
          "data": {
            "text/plain": [
              "Company\n",
              "Dell      291\n",
              "Lenovo    289\n",
              "HP        268\n",
              "Asus      151\n",
              "Acer      101\n",
              "Name: count, dtype: int64"
            ]
          },
          "metadata": {},
          "execution_count": 14
        }
      ]
    },
    {
      "cell_type": "code",
      "source": [
        "company_counts.plot(kind='bar')\n",
        "plt.show()"
      ],
      "metadata": {
        "colab": {
          "base_uri": "https://localhost:8080/",
          "height": 485
        },
        "id": "TilRvF0YPct7",
        "outputId": "c7b49288-ff85-402b-a3df-17878924e4ac"
      },
      "execution_count": null,
      "outputs": [
        {
          "output_type": "display_data",
          "data": {
            "text/plain": [
              "<Figure size 640x480 with 1 Axes>"
            ],
            "image/png": "[encoded data removed]"
          },
          "metadata": {}
        }
      ]
    },
    {
      "cell_type": "markdown",
      "source": [
        "#Բաժանում եմ դատան"
      ],
      "metadata": {
        "id": "LISkEWNuR6la"
      }
    },
    {
      "cell_type": "code",
      "source": [
        "train_data , test_data = sales_data.randomSplit([0.8, 0.2], seed=42)"
      ],
      "metadata": {
        "id": "nD8OObDPnBLv"
      },
      "execution_count": null,
      "outputs": []
    },
    {
      "cell_type": "code",
      "source": [
        "test_data.count()"
      ],
      "metadata": {
        "id": "L5IM52qYn2qe",
        "outputId": "b83fc2f0-5a0e-40b5-a560-076d3e030a0b",
        "colab": {
          "base_uri": "https://localhost:8080/"
        }
      },
      "execution_count": null,
      "outputs": [
        {
          "output_type": "execute_result",
          "data": {
            "text/plain": [
              "269"
            ]
          },
          "metadata": {},
          "execution_count": 42
        }
      ]
    },
    {
      "cell_type": "code",
      "source": [
        "Company_index = StringIndexer(inputCol='Company', outputCol='Company_index')\n",
        "Gpu_brand_index = StringIndexer(inputCol='Gpu_brand', outputCol='Gpu_brand_index')"
      ],
      "metadata": {
        "id": "zeTwjLGeoJ-y"
      },
      "execution_count": null,
      "outputs": []
    },
    {
      "cell_type": "code",
      "source": [
        "onehot = OneHotEncoder(inputCols=['Company_index','Gpu_brand_index'], outputCols=['Company_dummy','Gpu_brand_dummy'])"
      ],
      "metadata": {
        "id": "3xO8g4Guy1ra"
      },
      "execution_count": null,
      "outputs": []
    },
    {
      "cell_type": "code",
      "source": [
        "feature_cols = ['Ram', 'TouchScreen', 'Company_dummy', 'Gpu_brand_dummy']"
      ],
      "metadata": {
        "id": "UdLbYxNMoWEP"
      },
      "execution_count": null,
      "outputs": []
    },
    {
      "cell_type": "code",
      "source": [
        "assembler = VectorAssembler(inputCols=feature_cols, outputCol='features')"
      ],
      "metadata": {
        "id": "0nHYOLi1oaip"
      },
      "execution_count": null,
      "outputs": []
    },
    {
      "cell_type": "code",
      "source": [
        "rf = RandomForestRegressor(\n",
        "    featuresCol=\"features\",\n",
        "    labelCol=\"Price\",\n",
        "    maxBins=4000)"
      ],
      "metadata": {
        "id": "PZAgytCbom7s"
      },
      "execution_count": null,
      "outputs": []
    },
    {
      "cell_type": "markdown",
      "source": [
        "#Pipeline եմ սարքում randomForest-ի համար"
      ],
      "metadata": {
        "id": "c7AgomYstK22"
      }
    },
    {
      "cell_type": "code",
      "source": [
        "pipeline = Pipeline(stages=[Company_index, Gpu_brand_index, onehot, assembler, rf])"
      ],
      "metadata": {
        "id": "c_hvrYgvow6d"
      },
      "execution_count": null,
      "outputs": []
    },
    {
      "cell_type": "code",
      "source": [
        "model = pipeline.fit(train_data)"
      ],
      "metadata": {
        "id": "zsQRRzoao_NL"
      },
      "execution_count": null,
      "outputs": []
    },
    {
      "cell_type": "code",
      "source": [
        "preds = model.transform(test_data)"
      ],
      "metadata": {
        "id": "XcJGKHTQpB72"
      },
      "execution_count": null,
      "outputs": []
    },
    {
      "cell_type": "code",
      "source": [
        "preds.show()"
      ],
      "metadata": {
        "id": "ymupXdMnpGc8",
        "outputId": "96d08e70-a42c-4cc6-c3e7-dc6846e84612",
        "colab": {
          "base_uri": "https://localhost:8080/"
        }
      },
      "execution_count": null,
      "outputs": [
        {
          "output_type": "stream",
          "name": "stdout",
          "text": [
            "+-------+---+-----------+---------+------------------+-------------+---------------+--------------+---------------+--------------------+------------------+\n",
            "|Company|Ram|TouchScreen|Gpu_brand|             Price|Company_index|Gpu_brand_index| Company_dummy|Gpu_brand_dummy|            features|        prediction|\n",
            "+-------+---+-----------+---------+------------------+-------------+---------------+--------------+---------------+--------------------+------------------+\n",
            "|   Acer|  2|          0|    Intel|  9.77465368069266|          4.0|            0.0|(18,[4],[1.0])|  (2,[0],[1.0])|(22,[0,6,20],[2.0...| 9.676617464441353|\n",
            "|   Acer|  4|          0|      AMD|10.030000372501505|          4.0|            2.0|(18,[4],[1.0])|      (2,[],[])|(22,[0,6],[4.0,1.0])|10.142879466691038|\n",
            "|   Acer|  4|          0|    Intel| 9.317895278196945|          4.0|            0.0|(18,[4],[1.0])|  (2,[0],[1.0])|(22,[0,6,20],[4.0...|10.097794877628234|\n",
            "|   Acer|  4|          0|    Intel| 9.672654512737537|          4.0|            0.0|(18,[4],[1.0])|  (2,[0],[1.0])|(22,[0,6,20],[4.0...|10.097794877628234|\n",
            "|   Acer|  4|          0|    Intel|  9.84767881570755|          4.0|            0.0|(18,[4],[1.0])|  (2,[0],[1.0])|(22,[0,6,20],[4.0...|10.097794877628234|\n",
            "|   Acer|  4|          0|    Intel| 9.880922874286703|          4.0|            0.0|(18,[4],[1.0])|  (2,[0],[1.0])|(22,[0,6,20],[4.0...|10.097794877628234|\n",
            "|   Acer|  4|          0|    Intel|  9.99658437558166|          4.0|            0.0|(18,[4],[1.0])|  (2,[0],[1.0])|(22,[0,6,20],[4.0...|10.097794877628234|\n",
            "|   Acer|  4|          0|    Intel|10.159709917169616|          4.0|            0.0|(18,[4],[1.0])|  (2,[0],[1.0])|(22,[0,6,20],[4.0...|10.097794877628234|\n",
            "|   Acer|  4|          0|   Nvidia|10.274510273088076|          4.0|            1.0|(18,[4],[1.0])|  (2,[1],[1.0])|(22,[0,6,21],[4.0...|10.518449122483753|\n",
            "|   Acer|  4|          0|   Nvidia|10.324700017611931|          4.0|            1.0|(18,[4],[1.0])|  (2,[1],[1.0])|(22,[0,6,21],[4.0...|10.518449122483753|\n",
            "|   Acer|  4|          0|   Nvidia|10.369151780182765|          4.0|            1.0|(18,[4],[1.0])|  (2,[1],[1.0])|(22,[0,6,21],[4.0...|10.518449122483753|\n",
            "|   Acer|  4|          0|   Nvidia|10.398807989765654|          4.0|            1.0|(18,[4],[1.0])|  (2,[1],[1.0])|(22,[0,6,21],[4.0...|10.518449122483753|\n",
            "|   Acer|  4|          0|   Nvidia|10.460196261867386|          4.0|            1.0|(18,[4],[1.0])|  (2,[1],[1.0])|(22,[0,6,21],[4.0...|10.518449122483753|\n",
            "|   Acer|  4|          1|    Intel|  9.83063294843456|          4.0|            0.0|(18,[4],[1.0])|  (2,[0],[1.0])|(22,[0,1,6,20],[4...|10.130348920386776|\n",
            "|   Acer|  8|          0|      AMD|10.126163794678414|          4.0|            2.0|(18,[4],[1.0])|      (2,[],[])|(22,[0,6],[8.0,1.0])|10.579543533203893|\n",
            "|   Acer|  8|          0|    Intel|10.780175546294757|          4.0|            0.0|(18,[4],[1.0])|  (2,[0],[1.0])|(22,[0,6,20],[8.0...|10.675652536371464|\n",
            "|   Acer|  8|          0|   Nvidia|10.633572072102883|          4.0|            1.0|(18,[4],[1.0])|  (2,[1],[1.0])|(22,[0,6,21],[8.0...| 10.75006746331698|\n",
            "|   Acer| 16|          0|   Nvidia|11.838443060873624|          4.0|            1.0|(18,[4],[1.0])|  (2,[1],[1.0])|(22,[0,6,21],[16....|11.265150213369875|\n",
            "|  Apple|  8|          0|    Intel|11.233268703392175|          7.0|            0.0|(18,[7],[1.0])|  (2,[0],[1.0])|(22,[0,9,20],[8.0...|11.021949431036454|\n",
            "|  Apple|  8|          0|    Intel|11.555699396421488|          7.0|            0.0|(18,[7],[1.0])|  (2,[0],[1.0])|(22,[0,9,20],[8.0...|11.021949431036454|\n",
            "+-------+---+-----------+---------+------------------+-------------+---------------+--------------+---------------+--------------------+------------------+\n",
            "only showing top 20 rows\n",
            "\n"
          ]
        }
      ]
    },
    {
      "cell_type": "markdown",
      "source": [
        "Error-ներ եմ գտնում"
      ],
      "metadata": {
        "id": "NjvW-gsBtUiW"
      }
    },
    {
      "cell_type": "code",
      "source": [
        "mae_eval = RegressionEvaluator(labelCol=\"Price\", predictionCol=\"prediction\", metricName=\"mae\")"
      ],
      "metadata": {
        "id": "rojq3ziXpYPO"
      },
      "execution_count": null,
      "outputs": []
    },
    {
      "cell_type": "code",
      "source": [
        "mae = mae_eval.evaluate(preds)"
      ],
      "metadata": {
        "id": "3cd-C_hkrKxm"
      },
      "execution_count": null,
      "outputs": []
    },
    {
      "cell_type": "code",
      "source": [
        "mae"
      ],
      "metadata": {
        "id": "4fspX6NlrV2f",
        "outputId": "bff626e0-d6bb-43df-e53e-edf903e1b7b7",
        "colab": {
          "base_uri": "https://localhost:8080/"
        }
      },
      "execution_count": null,
      "outputs": [
        {
          "output_type": "execute_result",
          "data": {
            "text/plain": [
              "0.28413011760651025"
            ]
          },
          "metadata": {},
          "execution_count": 18
        }
      ]
    },
    {
      "cell_type": "code",
      "source": [
        "rmse_eval = RegressionEvaluator(labelCol=\"Price\", predictionCol=\"prediction\", metricName=\"rmse\")"
      ],
      "metadata": {
        "id": "IB-_gvzprWrd"
      },
      "execution_count": null,
      "outputs": []
    },
    {
      "cell_type": "code",
      "source": [
        "rmse = rmse_eval.evaluate(preds)"
      ],
      "metadata": {
        "id": "HxR9FJpErs6U"
      },
      "execution_count": null,
      "outputs": []
    },
    {
      "cell_type": "code",
      "source": [
        "rmse"
      ],
      "metadata": {
        "id": "NYxsmueIrwt2",
        "outputId": "5299278e-2fbe-4450-99d5-1f6cdbe7a2f2",
        "colab": {
          "base_uri": "https://localhost:8080/"
        }
      },
      "execution_count": null,
      "outputs": [
        {
          "output_type": "execute_result",
          "data": {
            "text/plain": [
              "0.354863450154745"
            ]
          },
          "metadata": {},
          "execution_count": 21
        }
      ]
    },
    {
      "cell_type": "markdown",
      "source": [
        "Նոր Pipeline եմ սարքում pipeline1, որ բերեմ դատան իմ ուզած տեսքի հետո նույն տրանսֆորմացիան անում եմ թեստի վրա, հետո CrossValidation եմ անում և ընտրում լավագույն մոդելը predict անելու համար"
      ],
      "metadata": {
        "id": "SqbFGuVytbx2"
      }
    },
    {
      "cell_type": "code",
      "source": [
        "pipeline1 = Pipeline(stages=[Company_index, Gpu_brand_index, onehot, assembler])\n",
        "pipeline1 = pipeline1.fit(train_data)\n",
        "train_data_transformed = pipeline1.transform(train_data)\n",
        "test_data_transformed = pipeline1.transform(test_data)"
      ],
      "metadata": {
        "id": "ccOI9dhMkGM3"
      },
      "execution_count": null,
      "outputs": []
    },
    {
      "cell_type": "code",
      "source": [
        "params = ParamGridBuilder().build()\n",
        "params1 = ParamGridBuilder().addGrid(rf.maxDepth, [3, 5, 7]).addGrid(rf.numTrees, [10, 20, 30]).build()"
      ],
      "metadata": {
        "id": "mBri5tsB1BbX"
      },
      "execution_count": null,
      "outputs": []
    },
    {
      "cell_type": "code",
      "source": [
        "cv = CrossValidator(estimator=rf,\n",
        "          estimatorParamMaps=params1,\n",
        "          evaluator=mae_eval)"
      ],
      "metadata": {
        "id": "C49QAS9b1BY5"
      },
      "execution_count": null,
      "outputs": []
    },
    {
      "cell_type": "code",
      "source": [
        "cv = cv.fit(train_data_transformed)"
      ],
      "metadata": {
        "id": "thzrQQF_xR52"
      },
      "execution_count": null,
      "outputs": []
    },
    {
      "cell_type": "code",
      "source": [
        "cv.avgMetrics"
      ],
      "metadata": {
        "colab": {
          "base_uri": "https://localhost:8080/"
        },
        "id": "9je4aRtD1cbo",
        "outputId": "57175d07-041c-43d7-ef35-a755016690ab"
      },
      "execution_count": null,
      "outputs": [
        {
          "output_type": "execute_result",
          "data": {
            "text/plain": [
              "[0.3314682321479273,\n",
              " 0.32802763195017665,\n",
              " 0.3280889141825391,\n",
              " 0.30295615985717855,\n",
              " 0.29980882276115056,\n",
              " 0.3017677212735988,\n",
              " 0.29069031247049587,\n",
              " 0.2876858015690524,\n",
              " 0.29038911193923306]"
            ]
          },
          "metadata": {},
          "execution_count": 81
        }
      ]
    },
    {
      "cell_type": "code",
      "source": [
        "cv.bestModel"
      ],
      "metadata": {
        "colab": {
          "base_uri": "https://localhost:8080/"
        },
        "id": "KWEYc9qC1cYo",
        "outputId": "218643d8-31b7-4138-da07-fa9a31a1a8f6"
      },
      "execution_count": null,
      "outputs": [
        {
          "output_type": "execute_result",
          "data": {
            "text/plain": [
              "RandomForestRegressionModel: uid=RandomForestRegressor_a9f72a79b6be, numTrees=20, numFeatures=22"
            ]
          },
          "metadata": {},
          "execution_count": 67
        }
      ]
    },
    {
      "cell_type": "code",
      "source": [
        "cv_pred = cv.bestModel.transform(test_data_transformed)\n",
        "cv_pred.show()"
      ],
      "metadata": {
        "colab": {
          "base_uri": "https://localhost:8080/"
        },
        "id": "8Jzijf3frbNu",
        "outputId": "c1fbb92d-0b58-4333-a2e7-6cf768fc585c"
      },
      "execution_count": null,
      "outputs": [
        {
          "output_type": "stream",
          "name": "stdout",
          "text": [
            "+-------+---+-----------+---------+------------------+-------------+---------------+--------------+---------------+--------------------+------------------+\n",
            "|Company|Ram|TouchScreen|Gpu_brand|             Price|Company_index|Gpu_brand_index| Company_dummy|Gpu_brand_dummy|            features|        prediction|\n",
            "+-------+---+-----------+---------+------------------+-------------+---------------+--------------+---------------+--------------------+------------------+\n",
            "|   Acer|  2|          0|    Intel|  9.77465368069266|          4.0|            0.0|(18,[4],[1.0])|  (2,[0],[1.0])|(22,[0,6,20],[2.0...| 9.537247731568208|\n",
            "|   Acer|  4|          0|      AMD|10.030000372501505|          4.0|            2.0|(18,[4],[1.0])|      (2,[],[])|(22,[0,6],[4.0,1.0])|10.089544173103898|\n",
            "|   Acer|  4|          0|    Intel| 9.317895278196945|          4.0|            0.0|(18,[4],[1.0])|  (2,[0],[1.0])|(22,[0,6,20],[4.0...|10.075610050085647|\n",
            "|   Acer|  4|          0|    Intel| 9.672654512737537|          4.0|            0.0|(18,[4],[1.0])|  (2,[0],[1.0])|(22,[0,6,20],[4.0...|10.075610050085647|\n",
            "|   Acer|  4|          0|    Intel|  9.84767881570755|          4.0|            0.0|(18,[4],[1.0])|  (2,[0],[1.0])|(22,[0,6,20],[4.0...|10.075610050085647|\n",
            "|   Acer|  4|          0|    Intel| 9.880922874286703|          4.0|            0.0|(18,[4],[1.0])|  (2,[0],[1.0])|(22,[0,6,20],[4.0...|10.075610050085647|\n",
            "|   Acer|  4|          0|    Intel|  9.99658437558166|          4.0|            0.0|(18,[4],[1.0])|  (2,[0],[1.0])|(22,[0,6,20],[4.0...|10.075610050085647|\n",
            "|   Acer|  4|          0|    Intel|10.159709917169616|          4.0|            0.0|(18,[4],[1.0])|  (2,[0],[1.0])|(22,[0,6,20],[4.0...|10.075610050085647|\n",
            "|   Acer|  4|          0|   Nvidia|10.274510273088076|          4.0|            1.0|(18,[4],[1.0])|  (2,[1],[1.0])|(22,[0,6,21],[4.0...|10.496124667358774|\n",
            "|   Acer|  4|          0|   Nvidia|10.324700017611931|          4.0|            1.0|(18,[4],[1.0])|  (2,[1],[1.0])|(22,[0,6,21],[4.0...|10.496124667358774|\n",
            "|   Acer|  4|          0|   Nvidia|10.369151780182765|          4.0|            1.0|(18,[4],[1.0])|  (2,[1],[1.0])|(22,[0,6,21],[4.0...|10.496124667358774|\n",
            "|   Acer|  4|          0|   Nvidia|10.398807989765654|          4.0|            1.0|(18,[4],[1.0])|  (2,[1],[1.0])|(22,[0,6,21],[4.0...|10.496124667358774|\n",
            "|   Acer|  4|          0|   Nvidia|10.460196261867386|          4.0|            1.0|(18,[4],[1.0])|  (2,[1],[1.0])|(22,[0,6,21],[4.0...|10.496124667358774|\n",
            "|   Acer|  4|          1|    Intel|  9.83063294843456|          4.0|            0.0|(18,[4],[1.0])|  (2,[0],[1.0])|(22,[0,1,6,20],[4...|10.080613860850956|\n",
            "|   Acer|  8|          0|      AMD|10.126163794678414|          4.0|            2.0|(18,[4],[1.0])|      (2,[],[])|(22,[0,6],[8.0,1.0])|10.434473047920998|\n",
            "|   Acer|  8|          0|    Intel|10.780175546294757|          4.0|            0.0|(18,[4],[1.0])|  (2,[0],[1.0])|(22,[0,6,20],[8.0...| 10.60776822199295|\n",
            "|   Acer|  8|          0|   Nvidia|10.633572072102883|          4.0|            1.0|(18,[4],[1.0])|  (2,[1],[1.0])|(22,[0,6,21],[8.0...|10.734000170048438|\n",
            "|   Acer| 16|          0|   Nvidia|11.838443060873624|          4.0|            1.0|(18,[4],[1.0])|  (2,[1],[1.0])|(22,[0,6,21],[16....|11.309877242644617|\n",
            "|  Apple|  8|          0|    Intel|11.233268703392175|          7.0|            0.0|(18,[7],[1.0])|  (2,[0],[1.0])|(22,[0,9,20],[8.0...|11.032169263183125|\n",
            "|  Apple|  8|          0|    Intel|11.555699396421488|          7.0|            0.0|(18,[7],[1.0])|  (2,[0],[1.0])|(22,[0,9,20],[8.0...|11.032169263183125|\n",
            "+-------+---+-----------+---------+------------------+-------------+---------------+--------------+---------------+--------------------+------------------+\n",
            "only showing top 20 rows\n",
            "\n"
          ]
        }
      ]
    },
    {
      "cell_type": "code",
      "source": [
        "regression = LinearRegression(labelCol='Price', featuresCol='features',predictionCol='prediction')"
      ],
      "metadata": {
        "id": "BuGMskKcqhyN"
      },
      "execution_count": null,
      "outputs": []
    },
    {
      "cell_type": "code",
      "source": [
        "cv_reg = CrossValidator(estimator=regression,\n",
        "          estimatorParamMaps=params,\n",
        "          evaluator=mae_eval)\n",
        "cv_reg = cv_reg.fit(train_data_transformed)"
      ],
      "metadata": {
        "id": "-yLJcRrpqhvl"
      },
      "execution_count": null,
      "outputs": []
    },
    {
      "cell_type": "code",
      "source": [
        "cv_pred_reg = cv_reg.bestModel.transform(test_data_transformed)\n",
        "cv_pred_reg.show()"
      ],
      "metadata": {
        "colab": {
          "base_uri": "https://localhost:8080/"
        },
        "id": "o8aeEUk5qhSu",
        "outputId": "90597069-2857-43ce-84c8-0154742dccb2"
      },
      "execution_count": null,
      "outputs": [
        {
          "output_type": "stream",
          "name": "stdout",
          "text": [
            "+-------+---+-----------+---------+------------------+-------------+---------------+--------------+---------------+--------------------+------------------+\n",
            "|Company|Ram|TouchScreen|Gpu_brand|             Price|Company_index|Gpu_brand_index| Company_dummy|Gpu_brand_dummy|            features|        prediction|\n",
            "+-------+---+-----------+---------+------------------+-------------+---------------+--------------+---------------+--------------------+------------------+\n",
            "|   Acer|  2|          0|    Intel|  9.77465368069266|          4.0|            0.0|(18,[4],[1.0])|  (2,[0],[1.0])|(22,[0,6,20],[2.0...| 9.967304918227674|\n",
            "|   Acer|  4|          0|      AMD|10.030000372501505|          4.0|            2.0|(18,[4],[1.0])|      (2,[],[])|(22,[0,6],[4.0,1.0])| 9.922254178793303|\n",
            "|   Acer|  4|          0|    Intel| 9.317895278196945|          4.0|            0.0|(18,[4],[1.0])|  (2,[0],[1.0])|(22,[0,6,20],[4.0...| 10.10020497336003|\n",
            "|   Acer|  4|          0|    Intel| 9.672654512737537|          4.0|            0.0|(18,[4],[1.0])|  (2,[0],[1.0])|(22,[0,6,20],[4.0...| 10.10020497336003|\n",
            "|   Acer|  4|          0|    Intel|  9.84767881570755|          4.0|            0.0|(18,[4],[1.0])|  (2,[0],[1.0])|(22,[0,6,20],[4.0...| 10.10020497336003|\n",
            "|   Acer|  4|          0|    Intel| 9.880922874286703|          4.0|            0.0|(18,[4],[1.0])|  (2,[0],[1.0])|(22,[0,6,20],[4.0...| 10.10020497336003|\n",
            "|   Acer|  4|          0|    Intel|  9.99658437558166|          4.0|            0.0|(18,[4],[1.0])|  (2,[0],[1.0])|(22,[0,6,20],[4.0...| 10.10020497336003|\n",
            "|   Acer|  4|          0|    Intel|10.159709917169616|          4.0|            0.0|(18,[4],[1.0])|  (2,[0],[1.0])|(22,[0,6,20],[4.0...| 10.10020497336003|\n",
            "|   Acer|  4|          0|   Nvidia|10.274510273088076|          4.0|            1.0|(18,[4],[1.0])|  (2,[1],[1.0])|(22,[0,6,21],[4.0...|  10.3010776485453|\n",
            "|   Acer|  4|          0|   Nvidia|10.324700017611931|          4.0|            1.0|(18,[4],[1.0])|  (2,[1],[1.0])|(22,[0,6,21],[4.0...|  10.3010776485453|\n",
            "|   Acer|  4|          0|   Nvidia|10.369151780182765|          4.0|            1.0|(18,[4],[1.0])|  (2,[1],[1.0])|(22,[0,6,21],[4.0...|  10.3010776485453|\n",
            "|   Acer|  4|          0|   Nvidia|10.398807989765654|          4.0|            1.0|(18,[4],[1.0])|  (2,[1],[1.0])|(22,[0,6,21],[4.0...|  10.3010776485453|\n",
            "|   Acer|  4|          0|   Nvidia|10.460196261867386|          4.0|            1.0|(18,[4],[1.0])|  (2,[1],[1.0])|(22,[0,6,21],[4.0...|  10.3010776485453|\n",
            "|   Acer|  4|          1|    Intel|  9.83063294843456|          4.0|            0.0|(18,[4],[1.0])|  (2,[0],[1.0])|(22,[0,1,6,20],[4...|10.339728544121765|\n",
            "|   Acer|  8|          0|      AMD|10.126163794678414|          4.0|            2.0|(18,[4],[1.0])|      (2,[],[])|(22,[0,6],[8.0,1.0])|10.188054289058016|\n",
            "|   Acer|  8|          0|    Intel|10.780175546294757|          4.0|            0.0|(18,[4],[1.0])|  (2,[0],[1.0])|(22,[0,6,20],[8.0...|10.366005083624746|\n",
            "|   Acer|  8|          0|   Nvidia|10.633572072102883|          4.0|            1.0|(18,[4],[1.0])|  (2,[1],[1.0])|(22,[0,6,21],[8.0...|10.566877758810014|\n",
            "|   Acer| 16|          0|   Nvidia|11.838443060873624|          4.0|            1.0|(18,[4],[1.0])|  (2,[1],[1.0])|(22,[0,6,21],[16....| 11.09847797933944|\n",
            "|  Apple|  8|          0|    Intel|11.233268703392175|          7.0|            0.0|(18,[7],[1.0])|  (2,[0],[1.0])|(22,[0,9,20],[8.0...| 11.15493622572256|\n",
            "|  Apple|  8|          0|    Intel|11.555699396421488|          7.0|            0.0|(18,[7],[1.0])|  (2,[0],[1.0])|(22,[0,9,20],[8.0...| 11.15493622572256|\n",
            "+-------+---+-----------+---------+------------------+-------------+---------------+--------------+---------------+--------------------+------------------+\n",
            "only showing top 20 rows\n",
            "\n"
          ]
        }
      ]
    },
    {
      "cell_type": "code",
      "source": [
        "my_spark.stop()"
      ],
      "metadata": {
        "colab": {
          "base_uri": "https://localhost:8080/",
          "height": 146
        },
        "id": "90GYQLTcxdkZ",
        "outputId": "2c5a751a-3849-41a0-a8e1-9436ddbc73f5"
      },
      "execution_count": null,
      "outputs": [
        {
          "output_type": "error",
          "ename": "NameError",
          "evalue": "name 'my_spark' is not defined",
          "traceback": [
            "\u001b[0;31m---------------------------------------------------------------------------\u001b[0m",
            "\u001b[0;31mNameError\u001b[0m                                 Traceback (most recent call last)",
            "\u001b[0;32m<ipython-input-1-9280ce0cc84f>\u001b[0m in \u001b[0;36m<cell line: 1>\u001b[0;34m()\u001b[0m\n\u001b[0;32m----> 1\u001b[0;31m \u001b[0mmy_spark\u001b[0m\u001b[0;34m.\u001b[0m\u001b[0mstop\u001b[0m\u001b[0;34m(\u001b[0m\u001b[0;34m)\u001b[0m\u001b[0;34m\u001b[0m\u001b[0;34m\u001b[0m\u001b[0m\n\u001b[0m",
            "\u001b[0;31mNameError\u001b[0m: name 'my_spark' is not defined"
          ]
        }
      ]
    },
    {
      "cell_type": "code",
      "source": [],
      "metadata": {
        "id": "jS3Wsk8qxfCg"
      },
      "execution_count": null,
      "outputs": []
    }
  ],
  "metadata": {
    "colab": {
      "provenance": []
    },
    "kernelspec": {
      "display_name": "Python 3",
      "name": "python3"
    }
  },
  "nbformat": 4,
  "nbformat_minor": 0
}